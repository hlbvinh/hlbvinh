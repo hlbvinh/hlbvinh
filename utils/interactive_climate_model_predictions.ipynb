{
 "cells": [
  {
   "cell_type": "code",
   "execution_count": null,
   "metadata": {},
   "outputs": [],
   "source": [
    "%matplotlib notebook\n",
    "\n",
    "from datetime import datetime, timedelta\n",
    "\n",
    "import matplotlib.pyplot as plt\n",
    "import pandas as pd\n",
    "import yaml\n",
    "from dateutil.parser import parse\n",
    "\n",
    "from skynet.utils.enums import Power\n",
    "from skynet.prediction import climate_model, predict\n",
    "\n",
    "from skynet.sample import sample\n",
    "\n",
    "from skynet.utils.storage import get_storage\n",
    "from skynet.utils import thermo\n",
    "from skynet.utils.script_utils import get_connections\n",
    "\n",
    "from utils.climate_model_predict import create_climate_model_predictions_for_history_features, get_history_feature_for_timestamps\n",
    "from ipywidgets import interact, fixed\n",
    "import ipywidgets as widgets"
   ]
  },
  {
   "cell_type": "code",
   "execution_count": null,
   "metadata": {},
   "outputs": [],
   "source": [
    "plt.rcParams[\"figure.figsize\"] = 16, 10"
   ]
  },
  {
   "cell_type": "code",
   "execution_count": null,
   "metadata": {},
   "outputs": [],
   "source": [
    "cnf = yaml.load(open('../config.yml'))\n",
    "connections = get_connections(config=cnf, mysql='viewer', cassandra='viewer')\n",
    "model_store = get_storage(storage=\"file\", **cnf[\"model_store\"], directory=\"../data/models\")\n",
    "predictor = predict.Predictor(model_store.load(climate_model.ClimateModel.get_storage_key()))"
   ]
  },
  {
   "cell_type": "code",
   "execution_count": null,
   "metadata": {},
   "outputs": [],
   "source": [
    "def get_history_feature_for_a_single_timestamp(history_features, timestamps, timestamp):\n",
    "    return history_features[timestamps.index(timestamp)]"
   ]
  },
  {
   "cell_type": "code",
   "execution_count": null,
   "metadata": {},
   "outputs": [],
   "source": [
    "STATES = [\n",
    "    {\"mode\": mode, \"temperature\": temperature_set, \"power\": Power.ON}\n",
    "    for mode in [\"heat\", \"cool\", \"fan\", \"auto\", \"dry\", \"off\"]\n",
    "    for temperature_set in range(16, 33)\n",
    "]\n",
    "\n",
    "FEATURE_COLUMNS = [\n",
    "    \"humidex\",\n",
    "    \"humidity\",\n",
    "    \"temperature_out\",\n",
    "    \"temperature\",\n",
    "    \"temperature_out_mean_day\",\n",
    "    \"temperature_delta\",\n",
    "]\n",
    "\n",
    "COLORMAP = {\n",
    "    \"off\": \"grey\",\n",
    "    \"heat\": \"red\",\n",
    "    \"cool\": \"green\",\n",
    "    \"dry\": \"purple\",\n",
    "    \"fan\": \"pink\",\n",
    "    \"auto\": \"black\"\n",
    "}\n"
   ]
  },
  {
   "cell_type": "code",
   "execution_count": null,
   "metadata": {},
   "outputs": [],
   "source": [
    "device_id = \"1dfeea44-790d-4061-b057-b09f43a078f4\"\n",
    "\n",
    "# current_timestamp = parse(datetime.utcnow().strftime(\"%Y-%m-%d %H:%M\"))\n",
    "current_timestamp = parse('2019-03-15 01:30')\n",
    "continuous_update = False"
   ]
  },
  {
   "cell_type": "code",
   "execution_count": null,
   "metadata": {},
   "outputs": [],
   "source": [
    "timestamps = [current_timestamp - timedelta(seconds=60*x) for x in range(-100, 101, 5)]\n",
    "\n",
    "\n",
    "history_features = await get_history_feature_for_timestamps(device_id, timestamps, connections)\n",
    "current_history_feature = get_history_feature_for_a_single_timestamp(history_features, timestamps, current_timestamp)"
   ]
  },
  {
   "cell_type": "code",
   "execution_count": null,
   "metadata": {},
   "outputs": [],
   "source": [
    "timestamp_slider = widgets.SelectionSlider(description='Timestamp', value=current_timestamp, options=timestamps, layout= widgets.Layout(width=\"900px\"), continuous_update=continuous_update)\n",
    "\n",
    "temperature_slider=widgets.FloatSlider(value=current_history_feature['temperature'], min=-10.0, max=40.0, step=0.1, description=\"temp\", layout= widgets.Layout(width=\"900px\"), continuous_update=continuous_update)\n",
    "humidity_slider=widgets.IntSlider(value=current_history_feature['humidity'], min=10.0, max=90.0, step=4, description=\"humidity\", layout= widgets.Layout(width=\"900px\"), continuous_update=continuous_update)\n",
    "\n",
    "temperature_out_slider=widgets.FloatSlider(value=current_history_feature['temperature_out'], min=-10.0, max=40.0, step=1, description=\"temp out\", layout= widgets.Layout(width=\"900px\"), continuous_update=continuous_update)"
   ]
  },
  {
   "cell_type": "code",
   "execution_count": null,
   "metadata": {},
   "outputs": [],
   "source": [
    "def update_history_feature(history_feature, temperature, humidity, temperature_out):\n",
    "    history_feature = {**history_feature}\n",
    "    \n",
    "    history_feature.update({\n",
    "        \"temperature_out\": temperature_out,\n",
    "        \"temperature\": temperature,\n",
    "        \"humidity\": humidity,\n",
    "        \"humidex\": thermo.humidex(temperature, humidity)\n",
    "    })\n",
    "\n",
    "    return {**history_feature}\n",
    "\n",
    "\n",
    "    \n",
    "x = [state.get('temperature', None) for state in STATES if state[\"mode\"] == \"off\"]\n",
    "\n",
    "modes = [\"off\", \"heat\", \"fan\", \"dry\", \"cool\", \"auto\"]\n",
    "\n",
    "default_prediction = create_climate_model_predictions_for_history_features([current_history_feature], predictor, [current_timestamp])"
   ]
  },
  {
   "cell_type": "code",
   "execution_count": null,
   "metadata": {
    "scrolled": false
   },
   "outputs": [],
   "source": [
    "fig = plt.figure()\n",
    "ax_temperature = fig.add_subplot(1, 3, 1)\n",
    "ax_humidity = fig.add_subplot(1, 3, 2)\n",
    "ax_humidex = fig.add_subplot(1, 3, 3)\n",
    "\n",
    "ax_temperature.set_ylabel(\"Temperautre\")\n",
    "ax_humidity.set_ylabel(\"Humidity\")\n",
    "ax_humidex.set_ylabel(\"Humidex\")\n",
    "\n",
    "ax_temperature.set_xlabel(\"Set Temperature\")\n",
    "ax_humidity.set_xlabel(\"Set Temperature\")\n",
    "ax_humidex.set_xlabel(\"Set Temperature\")\n",
    "\n",
    "ax_temperature.set_ylim(default_prediction[\"temperature\"].min() - 5, default_prediction[\"temperature\"].max() + 5)\n",
    "ax_humidity.set_ylim(default_prediction[\"humidity\"].min() - 10, default_prediction[\"humidity\"].max() + 10)\n",
    "ax_humidex.set_ylim(default_prediction[\"humidex\"].min() - 5, default_prediction[\"humidex\"].max() + 5)\n",
    "\n",
    "for mode in modes:\n",
    "    temperature_line, = ax_temperature.plot(x, default_prediction.loc[default_prediction[\"mode\"] == mode]['temperature'], color=COLORMAP[mode], marker=\"o\", linestyle=\":\", label=mode)\n",
    "    humidity_line, = ax_humidity.plot(x, default_prediction.loc[default_prediction[\"mode\"] == mode]['humidity'], color=COLORMAP[mode], marker=\"o\", linestyle=\":\", label=mode)\n",
    "    humidex_line, = ax_humidex.plot(x, default_prediction.loc[default_prediction[\"mode\"] == mode]['humidex'], color=COLORMAP[mode], marker=\"o\", linestyle=\":\", label=mode)\n",
    "\n",
    "\n",
    "temperature_line = ax_temperature.plot(x, [current_history_feature[\"temperature\"]] * len(x), color='k', linestyle=\"--\", label=\"current value\")\n",
    "humidity_line = ax_humidity.plot(x, [current_history_feature[\"humidity\"]] * len(x), color='k', linestyle=\"--\", label=\"current value\")\n",
    "humidex_line = ax_humidex.plot(x, [current_history_feature[\"humidex\"]] * len(x), color='k', linestyle=\"--\", label=\"current value\")\n",
    "\n",
    "    \n",
    "ax_temperature.legend(modes)\n",
    "\n",
    "def update_climate_predictions(history_features, predictor, timestamps, timestamp, temperature, humidity, temperature_out):\n",
    "    history_feature = get_history_feature_for_a_single_timestamp(history_features, timestamps, timestamp_slider.value)\n",
    "    \n",
    "    print(f\"Original temp: {history_feature['temperature']}, humidity: {history_feature['humidity']}, humidex: {history_feature['humidex']}\")\n",
    "    \n",
    "    updated_history_feature = update_history_feature(history_feature, temperature, humidity, temperature_out)\n",
    "    \n",
    "    prediction = create_climate_model_predictions_for_history_features([updated_history_feature], predictor, [current_timestamp])\n",
    "    \n",
    "    print(\"Current Input Features: \" + \", \".join([f\"{feature}: {updated_history_feature.get(feature, '---')}\" for feature in FEATURE_COLUMNS]))\n",
    "    \n",
    "    ax_temperature.lines[-1].set_data(x, [updated_history_feature[\"temperature\"]] * len(x))\n",
    "    ax_humidity.lines[-1].set_data(x, [updated_history_feature[\"humidity\"]] * len(x))\n",
    "    ax_humidex.lines[-1].set_data(x, [updated_history_feature[\"humidex\"]] * len(x))\n",
    "\n",
    "    for index, mode in enumerate(modes):\n",
    "        ax_temperature.lines[index].set_data(x, prediction.loc[prediction[\"mode\"] == mode][\"temperature\"])\n",
    "        ax_humidity.lines[index].set_data(x, prediction.loc[prediction[\"mode\"] == mode][\"humidity\"])\n",
    "        ax_humidex.lines[index].set_data(x, prediction.loc[prediction[\"mode\"] == mode][\"humidex\"])\n",
    "\n",
    "    fig.canvas.draw()\n",
    "\n",
    "def update_default_value_for_new_timestamp(*args, history_features=history_features, timestamps=timestamps):\n",
    "                     \n",
    "    history_feature = get_history_feature_for_a_single_timestamp(history_features, timestamps, timestamp_slider.value)\n",
    "\n",
    "    temperature_slider.value = history_feature.get(\"temperature\", 25) if history_feature else 25\n",
    "    humidity_slider.value = history_feature.get(\"humidity\", 50) if history_feature else 50\n",
    "    temperature_out_slider.value = history_feature.get(\"temperature_out\", 10) if history_feature else 10\n",
    "    \n",
    "\n",
    "timestamp_slider.observe(update_default_value_for_new_timestamp, \"value\")\n",
    "\n",
    "interact(\n",
    "    update_climate_predictions, \n",
    "    predictor=fixed(predictor),\n",
    "    current_timestamp = fixed(current_timestamp),\n",
    "    timestamps=fixed(timestamps),\n",
    "    history_features=fixed(history_features),\n",
    "    timestamp=timestamp_slider,\n",
    "    temperature=temperature_slider,\n",
    "    humidity=humidity_slider,\n",
    "    temperature_out=temperature_out_slider)"
   ]
  }
 ],
 "metadata": {
  "kernelspec": {
   "display_name": "Python 3",
   "language": "python",
   "name": "python3"
  },
  "language_info": {
   "codemirror_mode": {
    "name": "ipython",
    "version": 3
   },
   "file_extension": ".py",
   "mimetype": "text/x-python",
   "name": "python",
   "nbconvert_exporter": "python",
   "pygments_lexer": "ipython3",
   "version": "3.6.7"
  }
 },
 "nbformat": 4,
 "nbformat_minor": 2
}
